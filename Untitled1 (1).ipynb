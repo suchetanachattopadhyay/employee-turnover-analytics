{
    "cells": [
        {
            "cell_type": "code",
            "execution_count": 1,
            "id": "25b07ca3-71dc-46a0-901d-d599e9c5a2f2",
            "metadata": {},
            "outputs": [],
            "source": [
                "import numpy as np\n",
                "import matplotlib.pyplot as plt \n",
                "import seaborn as sns \n",
                "import pandas as pd"
            ]
        },
        {
            "cell_type": "code",
            "execution_count": 7,
            "id": "790094e6-a26f-4680-b451-c3ea8596ed5c",
            "metadata": {},
            "outputs": [],
            "source": [
                "df = pd.read_csv(\"HR_comma_sep.csv\")\n",
                "df.info()\n"
            ]
        },
        {
            "cell_type": "code",
            "execution_count": 8,
            "id": "6d9d1f1b-38ae-4aa7-9a14-f8272b65256f",
            "metadata": {},
            "outputs": [],
            "source": [
                "df.isna().sum()"
            ]
        },
        {
            "cell_type": "code",
            "execution_count": 9,
            "id": "c1d0afaa-a2f3-4804-957e-8f1a164a0b10",
            "metadata": {},
            "outputs": [],
            "source": [
                "df[\"left\"].unique()"
            ]
        },
        {
            "cell_type": "code",
            "execution_count": 10,
            "id": "72737122-192f-4a7c-aba0-7083ca3e2ea6",
            "metadata": {},
            "outputs": [],
            "source": [
                "df[\"promotion_last_5years\"].unique()"
            ]
        },
        {
            "cell_type": "code",
            "execution_count": 11,
            "id": "8f89e254-756f-45cb-bba6-f4b1790a3d46",
            "metadata": {},
            "outputs": [],
            "source": [
                "df[\"number_project\"].unique()"
            ]
        },
        {
            "cell_type": "code",
            "execution_count": 12,
            "id": "057d7af4-1605-43cd-a54b-690dca2ca6fe",
            "metadata": {},
            "outputs": [],
            "source": [
                "df.satisfaction_level.unique()"
            ]
        },
        {
            "cell_type": "code",
            "execution_count": 13,
            "id": "fd5ba88f-d2e1-4c7a-aa8b-f18515c52dd3",
            "metadata": {},
            "outputs": [],
            "source": [
                "df.last_evaluation.unique()"
            ]
        },
        {
            "cell_type": "code",
            "execution_count": null,
            "id": "5e0720ca-0dba-4683-b60c-a70e748bcd3b",
            "metadata": {},
            "outputs": [],
            "source": []
        },
        {
            "cell_type": "code",
            "execution_count": 14,
            "id": "5a78da5e-4248-4930-994f-5f0e13930830",
            "metadata": {},
            "outputs": [],
            "source": [
                "df.time_spend_company.unique()"
            ]
        },
        {
            "cell_type": "code",
            "execution_count": 15,
            "id": "8352ade4-ac36-4db4-a58a-d9038008b023",
            "metadata": {},
            "outputs": [],
            "source": [
                "df.Work_accident.unique()"
            ]
        },
        {
            "cell_type": "code",
            "execution_count": 16,
            "id": "d1fd461b-72e5-40c4-98cd-306b3be9ef91",
            "metadata": {},
            "outputs": [],
            "source": [
                "df.sales.unique()"
            ]
        },
        {
            "cell_type": "code",
            "execution_count": 17,
            "id": "9466dbf7-0a99-477b-aafc-9a43d4425435",
            "metadata": {},
            "outputs": [],
            "source": [
                "df.corr()"
            ]
        },
        {
            "cell_type": "code",
            "execution_count": 18,
            "id": "a9e098d3-a950-4011-a7bd-fa5763132087",
            "metadata": {},
            "outputs": [],
            "source": [
                "plt.figure(figsize=(8,8)) \n",
                "sns.heatmap(df.corr(),annot=True)"
            ]
        },
        {
            "cell_type": "code",
            "execution_count": 40,
            "id": "4264e8f6-467a-409d-aa03-c7b0693b8bbe",
            "metadata": {},
            "outputs": [],
            "source": [
                "df1= df.groupby([\"sales\"])[\"left\"].value_counts().reset_index(name=\"count\") \n",
                "df1=pd.DataFrame(df1)"
            ]
        },
        {
            "cell_type": "code",
            "execution_count": 41,
            "id": "5c14f4c6-4b13-42c8-b0ce-4862258ec416",
            "metadata": {},
            "outputs": [],
            "source": [
                "df[\"sales\"].value_counts()"
            ]
        },
        {
            "cell_type": "code",
            "execution_count": 23,
            "id": "afd81fa6-21c8-4849-9812-bea31d06f6c9",
            "metadata": {},
            "outputs": [],
            "source": [
                "dft=df[\"sales\"].value_counts().reset_index(name=\"Total\")"
            ]
        },
        {
            "cell_type": "code",
            "execution_count": 24,
            "id": "73ee68f0-5bdd-4701-9829-27b597b24969",
            "metadata": {},
            "outputs": [],
            "source": [
                "dft=dft.rename(columns={\"index\":\"sales\"})"
            ]
        },
        {
            "cell_type": "code",
            "execution_count": 25,
            "id": "2ff16c98-b46c-4dc2-abe7-b48afbe677c9",
            "metadata": {},
            "outputs": [],
            "source": [
                "dft"
            ]
        },
        {
            "cell_type": "code",
            "execution_count": 42,
            "id": "c4a03500-6320-4e2f-b5ac-0c44efbd05c4",
            "metadata": {},
            "outputs": [],
            "source": [
                "dfmer=df1.merge(dft,how=\"left\")"
            ]
        },
        {
            "cell_type": "code",
            "execution_count": 44,
            "id": "25d222ac-025b-43ca-91c0-45379cc587bb",
            "metadata": {},
            "outputs": [],
            "source": [
                "dfmer"
            ]
        },
        {
            "cell_type": "code",
            "execution_count": 45,
            "id": "787ad5d2-f36e-4625-837c-67a164227928",
            "metadata": {},
            "outputs": [],
            "source": [
                "dfmer[\"normal\"]=dfmer[\"count\"].div(dfmer[\"Total\"].values)\n",
                "dfmer[\"normal\"]=dfmer[\"normal\"]*100"
            ]
        },
        {
            "cell_type": "code",
            "execution_count": 46,
            "id": "6ce4b88d-1481-45e5-9aea-6d1d2e41dd88",
            "metadata": {},
            "outputs": [],
            "source": [
                "dfmer"
            ]
        },
        {
            "cell_type": "code",
            "execution_count": 47,
            "id": "580da627-58f9-478b-af09-04278e760cf2",
            "metadata": {},
            "outputs": [],
            "source": [
                "plt.figure(figsize=(8,8))\n",
                "sns.barplot(x=\"sales\",y='normal',hue=\"left\",data=dfmer)\n",
                "plt.xticks(rotation=90)"
            ]
        },
        {
            "cell_type": "code",
            "execution_count": 48,
            "id": "18af333e-0a82-40a9-a2de-d1e0d44a77d5",
            "metadata": {},
            "outputs": [],
            "source": [
                "df1.head()"
            ]
        },
        {
            "cell_type": "code",
            "execution_count": 49,
            "id": "49c5334f-708f-4a55-97b0-d6571936869e",
            "metadata": {},
            "outputs": [],
            "source": [
                "plt.figure(figsize=(8,8))\n",
                "sns.barplot(x=\"sales\",y='count',hue=\"left\",data=df1)\n",
                "plt.xticks(rotation=90)"
            ]
        },
        {
            "cell_type": "code",
            "execution_count": 50,
            "id": "43d47e65-7703-432f-88c4-465f434b6287",
            "metadata": {},
            "outputs": [],
            "source": [
                "df2= df.groupby([\"salary\"])[\"left\"].value_counts().reset_index(name=\"count\")\n",
                "df2=pd.DataFrame(df2)"
            ]
        },
        {
            "cell_type": "code",
            "execution_count": 51,
            "id": "c44454c6-d6f9-4d0d-ab79-92733003be11",
            "metadata": {},
            "outputs": [],
            "source": [
                "df2.head()"
            ]
        },
        {
            "cell_type": "code",
            "execution_count": 52,
            "id": "1d96ef38-0bd9-468f-b416-27ec0eeda461",
            "metadata": {},
            "outputs": [],
            "source": [
                "plt.figure(figsize=(8,8))\n",
                "sns.barplot(x=\"salary\",y='count',hue=\"left\",data=df2)\n",
                "plt.xticks(rotation=90)"
            ]
        },
        {
            "cell_type": "code",
            "execution_count": 53,
            "id": "2c0fe27b-6de0-4d26-b899-f365fd7cffac",
            "metadata": {},
            "outputs": [],
            "source": [
                "df3= df.groupby([\"time_spend_company\"])[\"left\"].value_counts().reset_index(name=\"count\")\n",
                "df3=pd.DataFrame(df3)"
            ]
        },
        {
            "cell_type": "code",
            "execution_count": 54,
            "id": "4ff5cf73-82f2-4e45-bde2-76e0babf3a96",
            "metadata": {},
            "outputs": [],
            "source": [
                "#time_spend_company\n",
                "plt.figure(figsize=(8,8))\n",
                "sns.barplot(x=\"time_spend_company\",y='count',hue=\"left\",data=df3)\n",
                "plt.xticks(rotation=90)\n"
            ]
        },
        {
            "cell_type": "code",
            "execution_count": 55,
            "id": "e12e74e8-adc4-4045-bdd7-e015ebd9dc90",
            "metadata": {},
            "outputs": [],
            "source": [
                "plt.figure(figsize=(8,8))\n",
                "sns.countplot(\"Work_accident\",hue=\"left\",data=df)\n",
                "plt.xticks(rotation=90)\n"
            ]
        },
        {
            "cell_type": "code",
            "execution_count": 56,
            "id": "d5e9b045-ba0f-4f7e-9de6-3a20359b53c5",
            "metadata": {},
            "outputs": [],
            "source": [
                "df.columns"
            ]
        },
        {
            "cell_type": "code",
            "execution_count": 57,
            "id": "7f4875bd-018b-453b-bc5a-a778edd65b7f",
            "metadata": {},
            "outputs": [],
            "source": [
                "plt.hist(df[\"average_montly_hours\"])\n"
            ]
        },
        {
            "cell_type": "code",
            "execution_count": 58,
            "id": "6779ce25-fdff-4876-97a2-9353240c954a",
            "metadata": {},
            "outputs": [],
            "source": [
                "sns.histplot(data = df,x=\"average_montly_hours\", kde = True,bins=20)\n"
            ]
        },
        {
            "cell_type": "code",
            "execution_count": 59,
            "id": "08f22075-c26c-489d-a116-9b0972cb4c77",
            "metadata": {},
            "outputs": [],
            "source": [
                "sns.histplot(data = df,x=\"last_evaluation\", kde = True,bins=20)"
            ]
        },
        {
            "cell_type": "code",
            "execution_count": 60,
            "id": "20ddd8be-753f-4bac-97ae-e702a78d491d",
            "metadata": {},
            "outputs": [],
            "source": [
                "sns.histplot(data = df,x=\"satisfaction_level\", kde = True,bins=20)"
            ]
        },
        {
            "cell_type": "code",
            "execution_count": 61,
            "id": "e5992cab-81f4-4ec6-8fa8-b63c123c093b",
            "metadata": {},
            "outputs": [],
            "source": [
                "sns.countplot(x=\"number_project\",hue=\"left\",data=df)\n",
                "plt.xticks(rotation=90)\n"
            ]
        },
        {
            "cell_type": "code",
            "execution_count": 62,
            "id": "e6664d29-c73b-42b9-8daa-43b9beec48ed",
            "metadata": {},
            "outputs": [],
            "source": [
                "dfclus = df[[\"satisfaction_level\",\"last_evaluation\",\"left\"]]"
            ]
        },
        {
            "cell_type": "code",
            "execution_count": 63,
            "id": "d21d343f-3434-498b-a5c1-1b64668df3d2",
            "metadata": {},
            "outputs": [],
            "source": [
                "dfclus"
            ]
        },
        {
            "cell_type": "code",
            "execution_count": 64,
            "id": "f4caca1c-c69a-47be-8cb2-8368f8a3bc3d",
            "metadata": {},
            "outputs": [],
            "source": [
                "from sklearn.cluster import KMeans"
            ]
        },
        {
            "cell_type": "code",
            "execution_count": 65,
            "id": "135f36c0-d3af-4b7a-a0d1-4ccc8a198090",
            "metadata": {},
            "outputs": [],
            "source": [
                "km=dfclus.iloc[:,:].values\n",
                "kmeans = KMeans(n_clusters=3, random_state=0)\n",
                "label = kmeans.fit_predict(dfclus)\n",
                "labelarr = kmeans.fit_predict(km)\n"
            ]
        },
        {
            "cell_type": "code",
            "execution_count": 66,
            "id": "d0eea535-5462-4749-847f-094d8c6cc638",
            "metadata": {},
            "outputs": [],
            "source": [
                "label"
            ]
        },
        {
            "cell_type": "code",
            "execution_count": 67,
            "id": "a0216c66-7e49-4454-97af-c984dc4dd1cc",
            "metadata": {},
            "outputs": [],
            "source": [
                "dfclus[label==0].describe()\n"
            ]
        },
        {
            "cell_type": "code",
            "execution_count": 68,
            "id": "ae0e8a07-18d4-4bdd-8583-53d2e9a2f207",
            "metadata": {},
            "outputs": [],
            "source": [
                "dfclus[label==1].describe()"
            ]
        },
        {
            "cell_type": "code",
            "execution_count": 69,
            "id": "7480a11f-ecda-4a7d-885d-bb433d2a00a7",
            "metadata": {},
            "outputs": [],
            "source": [
                "dfclus[label==2].describe()"
            ]
        },
        {
            "cell_type": "code",
            "execution_count": 71,
            "id": "3d3307ab-591c-4388-8ac3-ea21f0592bed",
            "metadata": {},
            "outputs": [],
            "source": [
                "km[label==0,1]\n"
            ]
        },
        {
            "cell_type": "code",
            "execution_count": 72,
            "id": "56de07e7-4010-4a1a-9781-93c6d77580be",
            "metadata": {},
            "outputs": [],
            "source": [
                "plt.figure(figsize=(8,8))\n",
                "plt.scatter(km[label==0,0],km[label==0,1],color=\"blue\")\n",
                "plt.scatter(km[label==1,0],km[label==1,1],color=\"red\")\n",
                "plt.scatter(km[label==2,0],km[label==2,1],color=\"green\")"
            ]
        },
        {
            "cell_type": "code",
            "execution_count": 73,
            "id": "ad30414d-31ea-4166-b415-70fe4082a727",
            "metadata": {},
            "outputs": [],
            "source": [
                "df.info()"
            ]
        },
        {
            "cell_type": "code",
            "execution_count": 74,
            "id": "31692b32-2ecd-4ac7-8614-3b7de69cd2da",
            "metadata": {},
            "outputs": [],
            "source": [
                "df_numerical=df.select_dtypes(include=['int64','float64'])\n",
                "df_categorical=df.select_dtypes(include=['object'])\n"
            ]
        },
        {
            "cell_type": "code",
            "execution_count": 75,
            "id": "cf6ab951-83c5-45b5-a540-c18769848c74",
            "metadata": {},
            "outputs": [],
            "source": [
                "df_converted = pd.get_dummies(data=df_categorical)"
            ]
        },
        {
            "cell_type": "code",
            "execution_count": 76,
            "id": "6310b703-1c3d-4191-89d0-e6c3f3fc701d",
            "metadata": {},
            "outputs": [],
            "source": [
                "df_converted.head()\n"
            ]
        },
        {
            "cell_type": "code",
            "execution_count": 77,
            "id": "61f63823-9eaa-48e1-9396-051c59717b7d",
            "metadata": {},
            "outputs": [],
            "source": [
                "dfn = pd.concat([df_numerical, df_converted], axis=1, join=\"inner\")\n"
            ]
        },
        {
            "cell_type": "code",
            "execution_count": 78,
            "id": "f59e7917-5620-41c1-a687-01ba8f1f965a",
            "metadata": {},
            "outputs": [],
            "source": [
                "dfn.shape"
            ]
        },
        {
            "cell_type": "code",
            "execution_count": 79,
            "id": "bdcb2adb-a008-4560-abdf-c20afd120b96",
            "metadata": {},
            "outputs": [],
            "source": [
                "dfn.head()"
            ]
        },
        {
            "cell_type": "code",
            "execution_count": 80,
            "id": "150d2c00-51d0-4d27-8242-7a6dd54613f3",
            "metadata": {},
            "outputs": [],
            "source": [
                "x =dfn.drop(\"left\",axis=1)\n",
                "y = dfn[\"left\"]"
            ]
        },
        {
            "cell_type": "code",
            "execution_count": 81,
            "id": "a1dfaa46-b772-4223-98c2-bd26d3a0cf14",
            "metadata": {},
            "outputs": [],
            "source": [
                "from sklearn.model_selection import train_test_split\n",
                "xtrain,xtest,ytrain,ytest = train_test_split(x,y,test_size=0.2,random_state=123)\n"
            ]
        },
        {
            "cell_type": "code",
            "execution_count": 82,
            "id": "5b861605-b6b6-41b1-bdba-8dfeee823625",
            "metadata": {},
            "outputs": [],
            "source": [
                "xtrain.shape,ytrain.shape,xtest.shape,ytest.shape"
            ]
        },
        {
            "cell_type": "code",
            "execution_count": 83,
            "id": "98dcc4ea-3ee3-4d0c-bb2a-dca08670b343",
            "metadata": {},
            "outputs": [],
            "source": [
                "ytrain.value_counts()"
            ]
        },
        {
            "cell_type": "code",
            "execution_count": 84,
            "id": "993fb3c5-9821-4b75-a487-0b98f7d77ad9",
            "metadata": {},
            "outputs": [],
            "source": [
                "from imblearn.over_sampling import SMOTE\n"
            ]
        },
        {
            "cell_type": "code",
            "execution_count": 85,
            "id": "7d87e4b1-3594-451b-96f6-4689269b89fa",
            "metadata": {},
            "outputs": [],
            "source": [
                "sm = SMOTE(random_state = 2)\n",
                "xtrainres, ytrainres = sm.fit_resample(xtrain, ytrain)"
            ]
        },
        {
            "cell_type": "code",
            "execution_count": 86,
            "id": "51217f35-627e-4998-8a83-d8b28279aa09",
            "metadata": {},
            "outputs": [],
            "source": [
                "ytrainres.value_counts()\n"
            ]
        },
        {
            "cell_type": "code",
            "execution_count": 87,
            "id": "633529cd-a4bb-4c70-b6f0-ee24849e81dd",
            "metadata": {},
            "outputs": [],
            "source": [
                "from sklearn.model_selection import cross_val_score\n",
                "from sklearn.linear_model import LogisticRegression\n",
                "from sklearn.ensemble import RandomForestClassifier\n",
                "from sklearn.metrics import roc_auc_score\n",
                "import sklearn.metrics as metrics\n"
            ]
        },
        {
            "cell_type": "code",
            "execution_count": 88,
            "id": "8b5050be-81ba-4986-91bd-df55c1d99657",
            "metadata": {},
            "outputs": [],
            "source": [
                "logreg = LogisticRegression(solver='lbfgs', max_iter=10000)"
            ]
        },
        {
            "cell_type": "code",
            "execution_count": 89,
            "id": "bbc1e29a-6184-4e97-b0df-bd050a7c09c8",
            "metadata": {},
            "outputs": [],
            "source": [
                "print(cross_val_score(logreg, xtrainres, ytrainres, cv=5).mean())\n"
            ]
        },
        {
            "cell_type": "code",
            "execution_count": 90,
            "id": "f937ff23-9738-466b-b94e-95a67df182e1",
            "metadata": {},
            "outputs": [],
            "source": [
                "logreg.fit(xtrainres,ytrainres)\n",
                "ypred = logreg.predict(xtest)"
            ]
        },
        {
            "cell_type": "code",
            "execution_count": 91,
            "id": "ee0884d4-3a6b-4fdd-b0ec-7a3695f91f5d",
            "metadata": {},
            "outputs": [],
            "source": [
                "from sklearn.metrics import classification_report"
            ]
        },
        {
            "cell_type": "code",
            "execution_count": 92,
            "id": "48665777-59cc-4de3-bd21-46a7f2e6ce86",
            "metadata": {},
            "outputs": [],
            "source": [
                "metrics.confusion_matrix(ytest,ypred)"
            ]
        },
        {
            "cell_type": "code",
            "execution_count": 93,
            "id": "f7747e7c-cadb-40c7-a81d-4cd7e537a3c7",
            "metadata": {},
            "outputs": [],
            "source": [
                "print(classification_report(ytest,ypred))"
            ]
        },
        {
            "cell_type": "code",
            "execution_count": 94,
            "id": "6b721d89-95ea-4a0f-b82d-3bad145e0178",
            "metadata": {},
            "outputs": [],
            "source": [
                "roc_auc_score(ytest,ypred)\n"
            ]
        },
        {
            "cell_type": "code",
            "execution_count": 95,
            "id": "f6be617d-b110-433f-be20-ba95dbb5799d",
            "metadata": {},
            "outputs": [],
            "source": [
                "fpr, tpr, threshold = metrics.roc_curve(ytest, ypred)\n",
                "print(fpr)\n",
                "print(tpr)\n",
                "print(threshold)\n",
                "roc_auc = metrics.auc(fpr, tpr)\n",
                "print(roc_auc)\n",
                "\n",
                "# method I: plt\n",
                "plt.title('Receiver Operating Characteristic for Logistic Regression')\n",
                "plt.plot(fpr, tpr, 'b', label = 'AUC = %0.2f' % roc_auc)\n",
                "plt.legend(loc = 'lower right')\n",
                "plt.plot([0, 1], [0, 1],'r--')\n",
                "plt.xlim([0, 1])\n",
                "plt.ylim([0, 1])\n",
                "plt.ylabel('True Positive Rate')\n",
                "plt.xlabel('False Positive Rate')\n",
                "plt.show()"
            ]
        },
        {
            "cell_type": "code",
            "execution_count": 96,
            "id": "ef6c039e-184b-4806-a96b-2e76a99997e2",
            "metadata": {},
            "outputs": [],
            "source": [
                "randm=RandomForestClassifier(max_depth=5)"
            ]
        },
        {
            "cell_type": "code",
            "execution_count": 98,
            "id": "b7063b36-4739-478d-8921-ddf608f27dee",
            "metadata": {},
            "outputs": [],
            "source": [
                "print(cross_val_score(randm, xtrainres, ytrainres, cv=5).mean())"
            ]
        },
        {
            "cell_type": "code",
            "execution_count": 99,
            "id": "4f71cb50-640a-4f11-96fb-b6af09529a92",
            "metadata": {},
            "outputs": [],
            "source": [
                "randm.fit(xtrainres,ytrainres)\n",
                "ypred1=randm.predict(xtest)"
            ]
        },
        {
            "cell_type": "code",
            "execution_count": 100,
            "id": "ee0181dd-c8d6-4628-8944-8e56805d2024",
            "metadata": {},
            "outputs": [],
            "source": [
                "metrics.confusion_matrix(ytest,ypred1)\n"
            ]
        },
        {
            "cell_type": "code",
            "execution_count": 101,
            "id": "a2da8471-fc31-4dde-a6a2-067886b0ab02",
            "metadata": {},
            "outputs": [],
            "source": [
                "print(classification_report(ytest,ypred1))"
            ]
        },
        {
            "cell_type": "code",
            "execution_count": 102,
            "id": "51ed1e03-90d5-4a32-89c6-ff6af0ad8a26",
            "metadata": {},
            "outputs": [],
            "source": [
                "roc_auc_score(ytest,ypred1)"
            ]
        },
        {
            "cell_type": "code",
            "execution_count": 103,
            "id": "d7ea117a-583a-4cb3-bb61-a6b6d4b3ae88",
            "metadata": {},
            "outputs": [],
            "source": [
                "fpr, tpr, threshold = metrics.roc_curve(ytest, ypred1)\n",
                "print(fpr)\n",
                "print(tpr)\n",
                "print(threshold)\n",
                "roc_auc = metrics.auc(fpr, tpr)\n",
                "print(roc_auc)\n",
                "\n",
                "# method I: plt\n",
                "plt.title('Receiver Operating Characteristic for Random Forest')\n",
                "plt.plot(fpr, tpr, 'b', label = 'AUC = %0.2f' % roc_auc)\n",
                "plt.legend(loc = 'lower right')\n",
                "plt.plot([0, 1], [0, 1],'r--')\n",
                "plt.xlim([0, 1])\n",
                "plt.ylim([0, 1])\n",
                "plt.ylabel('True Positive Rate')\n",
                "plt.xlabel('False Positive Rate')\n",
                "plt.show()"
            ]
        },
        {
            "cell_type": "code",
            "execution_count": 104,
            "id": "37e617ea-eabe-43c3-af56-a8ed1c5498c4",
            "metadata": {},
            "outputs": [],
            "source": [
                "from sklearn.ensemble import GradientBoostingClassifier"
            ]
        },
        {
            "cell_type": "code",
            "execution_count": null,
            "id": "f2c2928f-53ea-452a-94bf-e3e63879e2bf",
            "metadata": {},
            "outputs": [],
            "source": []
        },
        {
            "cell_type": "code",
            "execution_count": 105,
            "id": "ac0cf9af-42e0-4d4c-93f9-a14fbd28ead2",
            "metadata": {},
            "outputs": [],
            "source": [
                "gb = GradientBoostingClassifier(n_estimators=100, learning_rate=1.0,max_depth=1, random_state=0)"
            ]
        },
        {
            "cell_type": "code",
            "execution_count": 106,
            "id": "e4d0558b-5d0a-4858-b5db-9f1048820861",
            "metadata": {},
            "outputs": [],
            "source": [
                "print(cross_val_score(gb, xtrainres, ytrainres, cv=5).mean())"
            ]
        },
        {
            "cell_type": "code",
            "execution_count": 107,
            "id": "ec0ed133-8071-4aa6-9eb7-dd89996d8836",
            "metadata": {},
            "outputs": [],
            "source": [
                "gb.fit(xtrainres,ytrainres)"
            ]
        },
        {
            "cell_type": "code",
            "execution_count": 108,
            "id": "10fc08cf-4a41-4061-9559-ef772a131b9d",
            "metadata": {},
            "outputs": [],
            "source": [
                "ypred2 = gb.predict(xtest)"
            ]
        },
        {
            "cell_type": "code",
            "execution_count": 109,
            "id": "3dc67d28-9959-442e-aecc-3c7e54990e57",
            "metadata": {},
            "outputs": [],
            "source": [
                "metrics.confusion_matrix(ytest,ypred2)"
            ]
        },
        {
            "cell_type": "code",
            "execution_count": 110,
            "id": "55b80dd4-4da9-4c37-a564-0119d928cbe8",
            "metadata": {},
            "outputs": [],
            "source": [
                "print(classification_report(ytest,ypred2))\n"
            ]
        },
        {
            "cell_type": "code",
            "execution_count": 111,
            "id": "735d5af9-6b53-4d43-9083-2e171ad0ade0",
            "metadata": {},
            "outputs": [],
            "source": [
                "roc_auc_score(ytest,ypred2)"
            ]
        },
        {
            "cell_type": "code",
            "execution_count": 112,
            "id": "b6c25e55-b1db-4be1-bffd-d3f75e051cf6",
            "metadata": {},
            "outputs": [],
            "source": [
                "fpr, tpr, threshold = metrics.roc_curve(ytest, ypred2)\n",
                "print(fpr)\n",
                "print(tpr)\n",
                "print(threshold)\n",
                "roc_auc = metrics.auc(fpr, tpr)\n",
                "print(roc_auc)\n",
                "\n",
                "# method I: plt\n",
                "plt.title('Receiver Operating Characteristic for Gradient Boosting')\n",
                "plt.plot(fpr, tpr, 'b', label = 'AUC = %0.2f' % roc_auc)\n",
                "plt.legend(loc = 'lower right')\n",
                "plt.plot([0, 1], [0, 1],'r--')\n",
                "plt.xlim([0, 1])\n",
                "plt.ylim([0, 1])\n",
                "plt.ylabel('True Positive Rate')\n",
                "plt.xlabel('False Positive Rate')\n",
                "plt.show()"
            ]
        },
        {
            "cell_type": "code",
            "execution_count": 113,
            "id": "5ed1e813-ff7b-4de9-a424-0b0bc17888ae",
            "metadata": {},
            "outputs": [],
            "source": [
                "col = xtrainres.columns\n"
            ]
        },
        {
            "cell_type": "code",
            "execution_count": 114,
            "id": "05d8f733-a744-49b4-9c99-1e3fdd6de5a7",
            "metadata": {},
            "outputs": [],
            "source": [
                "col"
            ]
        },
        {
            "cell_type": "code",
            "execution_count": 115,
            "id": "4fb7e216-31b4-42b0-8a1c-fa64e9a3039e",
            "metadata": {},
            "outputs": [],
            "source": [
                "feature_labels = np.array(col)"
            ]
        },
        {
            "cell_type": "code",
            "execution_count": 116,
            "id": "d5d4b32c-3185-455f-8636-9a613391ab73",
            "metadata": {},
            "outputs": [],
            "source": [
                "importance = randm.feature_importances_\n",
                "feature_indexes_by_importance = importance.argsort()\n",
                "for index in feature_indexes_by_importance:\n",
                "    print('{}-{:.2f}%'.format(feature_labels[index], (importance[index] *100.0)))"
            ]
        },
        {
            "cell_type": "code",
            "execution_count": 117,
            "id": "e223ac8f-15ed-46b5-88af-3e9e3946bbc3",
            "metadata": {},
            "outputs": [],
            "source": [
                "predict_probability = randm.predict_proba(xtest)"
            ]
        },
        {
            "cell_type": "code",
            "execution_count": 118,
            "id": "5da7ec0b-8375-4bb7-9762-ca0c7937c5f7",
            "metadata": {},
            "outputs": [],
            "source": [
                "predict_probability[:,1]"
            ]
        },
        {
            "cell_type": "code",
            "execution_count": 119,
            "id": "1ac67f42-83f1-49ef-ada7-4087e6832f71",
            "metadata": {},
            "outputs": [],
            "source": [
                "zone=[]\n",
                "prob=[]\n",
                "\n",
                "for i in predict_probability[:,1]:\n",
                "  prob.append(i)\n",
                "  if (i<=0.2):\n",
                "    zone.append(\"Safe Zone\")    \n",
                "  elif (i>0.2 and i<=0.6):\n",
                "    zone.append(\"Low Risk Zone\")\n",
                "  elif (i>0.6 and i<=0.9):\n",
                "    zone.append(\"Medium Risk Zone \")\n",
                "  else:\n",
                "    zone.append(\"High Risk Zone \")"
            ]
        },
        {
            "cell_type": "code",
            "execution_count": 120,
            "id": "5bd0c73a-fc6e-43c7-bfe8-c133da188b5f",
            "metadata": {},
            "outputs": [],
            "source": [
                "categories = [\"Safe Zone\",\"Low Risk Zone\",\"Medium Risk Zone \",\"High Risk Zone \"]\n",
                "color = [\"Green\",\"Yellow\",\"Orange\",\"Red\"]"
            ]
        },
        {
            "cell_type": "code",
            "execution_count": 121,
            "id": "8c95d692-8049-4c1d-bdb2-8b7dea19cd8d",
            "metadata": {},
            "outputs": [],
            "source": [
                "colordict = dict(zip(categories, color))"
            ]
        },
        {
            "cell_type": "code",
            "execution_count": 122,
            "id": "166a913a-1119-4d79-8db5-0a13e4e1d338",
            "metadata": {},
            "outputs": [],
            "source": [
                "clr = pd.DataFrame({\"zone\":zone,\"probability\":prob})"
            ]
        },
        {
            "cell_type": "code",
            "execution_count": 123,
            "id": "a97af0d4-ea74-4a33-a978-904430eb42fc",
            "metadata": {},
            "outputs": [],
            "source": [
                "clr[\"zone\"].unique()"
            ]
        },
        {
            "cell_type": "code",
            "execution_count": 124,
            "id": "80ae1832-2731-43b5-b744-eae7cd86f91d",
            "metadata": {},
            "outputs": [],
            "source": [
                "clr[\"Color\"] = clr[\"zone\"].apply(lambda x: colordict[x])"
            ]
        },
        {
            "cell_type": "code",
            "execution_count": 125,
            "id": "ff31e7d2-4f95-4496-bb32-60e11f1e5f12",
            "metadata": {},
            "outputs": [],
            "source": [
                "clr.head(10)"
            ]
        },
        {
            "cell_type": "code",
            "execution_count": 126,
            "id": "ae1a28b7-5d56-42bc-bf7c-c6612b007b2f",
            "metadata": {},
            "outputs": [],
            "source": [
                "color= clr[\"Color\"].tolist()"
            ]
        },
        {
            "cell_type": "code",
            "execution_count": 127,
            "id": "f2f3111f-f84a-4655-9182-9688fe41ebce",
            "metadata": {},
            "outputs": [],
            "source": [
                "c = [\"Green\",\"Red\",\"Orange\",\"Yellow\"]"
            ]
        },
        {
            "cell_type": "code",
            "execution_count": 129,
            "id": "8d8aa086-b244-49c4-b436-17c58ef844d8",
            "metadata": {},
            "outputs": [],
            "source": [
                "plt.figure(figsize=(7,7))\n",
                "sns.countplot(zone,palette=c)"
            ]
        },
        {
            "cell_type": "code",
            "execution_count": null,
            "id": "756f9bb3-64ca-4044-a2c7-ca77c957260c",
            "metadata": {},
            "outputs": [],
            "source": []
        }
    ],
    "metadata": {
        "kernelspec": {
            "display_name": "Python 3 [3.10]",
            "language": "python",
            "name": "python3"
        },
        "language_info": {
            "codemirror_mode": {
                "name": "ipython",
                "version": 3
            },
            "file_extension": ".py",
            "mimetype": "text/x-python",
            "name": "python",
            "nbconvert_exporter": "python",
            "pygments_lexer": "ipython3",
            "version": "3.10.2"
        }
    },
    "nbformat": 4,
    "nbformat_minor": 5
}